{
 "cells": [
  {
   "cell_type": "code",
   "execution_count": 7,
   "metadata": {},
   "outputs": [
    {
     "data": {
      "text/plain": [
       "===============================================================================================\n",
       "Layer (type:depth-idx)                        Output Shape              Param #\n",
       "===============================================================================================\n",
       "RedPalmModelSequence                          [1, 2]                    328,000\n",
       "├─Sequential: 1-1                             [1, 1, 623]               2,765\n",
       "├─Linear: 1-2                                 [1, 623, 328]             656\n",
       "├─TransformerEncoder: 1-3                     [623, 1, 328]             2,595,136\n",
       "├─Sequential: 1-4                             [1, 2]                    54,286\n",
       "===============================================================================================\n",
       "Total params: 2,980,843\n",
       "Trainable params: 2,980,843\n",
       "Non-trainable params: 0\n",
       "Total mult-adds (M): 566.90\n",
       "===============================================================================================\n",
       "Input size (MB): 0.64\n",
       "Forward/backward pass size (MB): 33.34\n",
       "Params size (MB): 3.71\n",
       "Estimated Total Size (MB): 37.68\n",
       "==============================================================================================="
      ]
     },
     "execution_count": 7,
     "metadata": {},
     "output_type": "execute_result"
    }
   ],
   "source": [
    "import sys\n",
    "sys.path.append(\"../Scripts/\")\n",
    "from models import RedPalmModelSequence, RedPalmModelImage\n",
    "from torchinfo import summary\n",
    "import torch\n",
    "model = RedPalmModelSequence(328)\n",
    "\n",
    "summary(model, input_size=(1, 1, 160000), depth=1)"
   ]
  },
  {
   "cell_type": "code",
   "execution_count": null,
   "metadata": {},
   "outputs": [
    {
     "data": {
      "text/plain": [
       "=========================================================================================================\n",
       "Layer (type:depth-idx)                                  Output Shape              Param #\n",
       "=========================================================================================================\n",
       "RedPalmModelImage                                       [1, 2]                    --\n",
       "├─MobileNetV2: 1-1                                      [1, 1280]                 2,223,872\n",
       "├─Linear: 1-2                                           [1, 512]                  655,872\n",
       "├─Sequential: 1-3                                       [1, 2]                    131,842\n",
       "=========================================================================================================\n",
       "Total params: 3,011,586\n",
       "Trainable params: 3,011,586\n",
       "Non-trainable params: 0\n",
       "Total mult-adds (M): 514.90\n",
       "=========================================================================================================\n",
       "Input size (MB): 0.67\n",
       "Forward/backward pass size (MB): 150.11\n",
       "Params size (MB): 12.05\n",
       "Estimated Total Size (MB): 162.83\n",
       "========================================================================================================="
      ]
     },
     "execution_count": 8,
     "metadata": {},
     "output_type": "execute_result"
    },
    {
     "ename": "",
     "evalue": "",
     "output_type": "error",
     "traceback": [
      "\u001b[1;31mThe Kernel crashed while executing code in the current cell or a previous cell. \n",
      "\u001b[1;31mPlease review the code in the cell(s) to identify a possible cause of the failure. \n",
      "\u001b[1;31mClick <a href='https://aka.ms/vscodeJupyterKernelCrash'>here</a> for more info. \n",
      "\u001b[1;31mView Jupyter <a href='command:jupyter.viewOutput'>log</a> for further details."
     ]
    }
   ],
   "source": [
    "model = RedPalmModelImage()\n",
    "summary(model, input_size=(1, 3, 4313, 13), depth=1)"
   ]
  },
  {
   "cell_type": "code",
   "execution_count": null,
   "metadata": {},
   "outputs": [],
   "source": []
  }
 ],
 "metadata": {
  "kernelspec": {
   "display_name": "Python 3",
   "language": "python",
   "name": "python3"
  },
  "language_info": {
   "codemirror_mode": {
    "name": "ipython",
    "version": 3
   },
   "file_extension": ".py",
   "mimetype": "text/x-python",
   "name": "python",
   "nbconvert_exporter": "python",
   "pygments_lexer": "ipython3",
   "version": "3.10.0"
  }
 },
 "nbformat": 4,
 "nbformat_minor": 2
}
